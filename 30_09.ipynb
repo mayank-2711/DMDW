{
  "nbformat": 4,
  "nbformat_minor": 0,
  "metadata": {
    "colab": {
      "name": "30-09.ipynb",
      "provenance": [],
      "authorship_tag": "ABX9TyNx26LrF/X2puNTxV/W1KZL",
      "include_colab_link": true
    },
    "kernelspec": {
      "name": "python3",
      "display_name": "Python 3"
    },
    "language_info": {
      "name": "python"
    }
  },
  "cells": [
    {
      "cell_type": "markdown",
      "metadata": {
        "id": "view-in-github",
        "colab_type": "text"
      },
      "source": [
        "<a href=\"https://colab.research.google.com/github/mayank-2711/DMDW/blob/main/30_09.ipynb\" target=\"_parent\"><img src=\"https://colab.research.google.com/assets/colab-badge.svg\" alt=\"Open In Colab\"/></a>"
      ]
    },
    {
      "cell_type": "code",
      "metadata": {
        "id": "h2pUtlTXBNzo"
      },
      "source": [
        "import statistics as stat"
      ],
      "execution_count": 16,
      "outputs": []
    },
    {
      "cell_type": "code",
      "metadata": {
        "id": "dUDvZSpBCD7o"
      },
      "source": [
        "l=[1,2,3,1,2,5,3,2,9]"
      ],
      "execution_count": 17,
      "outputs": []
    },
    {
      "cell_type": "code",
      "metadata": {
        "colab": {
          "base_uri": "https://localhost:8080/"
        },
        "id": "cE0_aPXVCViG",
        "outputId": "e794e720-f83d-43f3-bef8-eb089567afa9"
      },
      "source": [
        "print(\"Mean:\",stat.mean(l))"
      ],
      "execution_count": 32,
      "outputs": [
        {
          "output_type": "stream",
          "name": "stdout",
          "text": [
            "Mean: 3.111111111111111\n"
          ]
        }
      ]
    },
    {
      "cell_type": "code",
      "metadata": {
        "colab": {
          "base_uri": "https://localhost:8080/"
        },
        "id": "AoWpxgoFCcOt",
        "outputId": "b474b382-a51e-4b95-bbae-e5b6c85eb17b"
      },
      "source": [
        "print(\"Median:\",stat.median(l))"
      ],
      "execution_count": 33,
      "outputs": [
        {
          "output_type": "stream",
          "name": "stdout",
          "text": [
            "Median: 2\n"
          ]
        }
      ]
    },
    {
      "cell_type": "code",
      "metadata": {
        "colab": {
          "base_uri": "https://localhost:8080/"
        },
        "id": "COsZw7IgChpN",
        "outputId": "b95a54c7-b19f-47c1-ca2d-c7cd5fadaaeb"
      },
      "source": [
        "print(\"Mode:\",stat.mode(l))"
      ],
      "execution_count": 34,
      "outputs": [
        {
          "output_type": "stream",
          "name": "stdout",
          "text": [
            "Mode: 2\n"
          ]
        }
      ]
    },
    {
      "cell_type": "code",
      "metadata": {
        "colab": {
          "base_uri": "https://localhost:8080/"
        },
        "id": "s-m2tTrUClad",
        "outputId": "c73e9b3f-7d30-4d64-e589-03cce9702521"
      },
      "source": [
        "print(\"Standard Deviation:\",stat.stdev(l))"
      ],
      "execution_count": 35,
      "outputs": [
        {
          "output_type": "stream",
          "name": "stdout",
          "text": [
            "Standard Deviation: 2.5221243250702594\n"
          ]
        }
      ]
    },
    {
      "cell_type": "code",
      "metadata": {
        "colab": {
          "base_uri": "https://localhost:8080/"
        },
        "id": "cLSmTo22CrhV",
        "outputId": "dd482328-82f2-409e-bad3-16bcfc4793fc"
      },
      "source": [
        "print(\"Variance:\",stat.variance(l))"
      ],
      "execution_count": 36,
      "outputs": [
        {
          "output_type": "stream",
          "name": "stdout",
          "text": [
            "Variance: 6.3611111111111125\n"
          ]
        }
      ]
    },
    {
      "cell_type": "code",
      "metadata": {
        "id": "TY5nnIdCEWxv"
      },
      "source": [
        "l=[1,2,3,1,2,5,3,2,9]"
      ],
      "execution_count": 23,
      "outputs": []
    },
    {
      "cell_type": "code",
      "metadata": {
        "id": "lBKY4-YlE-7G"
      },
      "source": [
        "l.sort()"
      ],
      "execution_count": 24,
      "outputs": []
    },
    {
      "cell_type": "code",
      "metadata": {
        "colab": {
          "base_uri": "https://localhost:8080/"
        },
        "id": "oPlGoWuxFZ2X",
        "outputId": "84fc4f1c-84dd-4b5b-923d-3d3190b2d90e"
      },
      "source": [
        "#mean\n",
        "mean=sum(l)/len(l)\n",
        "print(\"Mean:\",mean)"
      ],
      "execution_count": 37,
      "outputs": [
        {
          "output_type": "stream",
          "name": "stdout",
          "text": [
            "Mean: 3.111111111111111\n"
          ]
        }
      ]
    },
    {
      "cell_type": "code",
      "metadata": {
        "colab": {
          "base_uri": "https://localhost:8080/"
        },
        "id": "S8SBdvu4FjbH",
        "outputId": "635938d4-2f47-462d-b09d-2862dc199b99"
      },
      "source": [
        "#median\n",
        "if (len(l)%2==0):\n",
        "  med=(l[len(l)//2]+l[(len(l)//2)+1])/2\n",
        "else:\n",
        "  med=l[len(l)//2]\n",
        "print(\"Median:\",med)"
      ],
      "execution_count": 38,
      "outputs": [
        {
          "output_type": "stream",
          "name": "stdout",
          "text": [
            "Median: 2\n"
          ]
        }
      ]
    },
    {
      "cell_type": "code",
      "metadata": {
        "id": "SLyGEAucHR6F",
        "colab": {
          "base_uri": "https://localhost:8080/"
        },
        "outputId": "c3e2ceb3-4f23-4411-c63a-76d651fdf69d"
      },
      "source": [
        "#mode\n",
        "from collections import Counter\n",
        "n = len(l)\n",
        "  \n",
        "data = Counter(l)\n",
        "get_mode = dict(data)\n",
        "mode = [k for k, v in get_mode.items() if v == max(list(data.values()))]\n",
        "  \n",
        "if len(mode) == n:\n",
        "    get_mode = \"No mode found\"\n",
        "else:\n",
        "    get_mode = \"Mode is / are: \" + ', '.join(map(str, mode))\n",
        "      \n",
        "print(get_mode)"
      ],
      "execution_count": 39,
      "outputs": [
        {
          "output_type": "stream",
          "name": "stdout",
          "text": [
            "Mode is / are: 2\n"
          ]
        }
      ]
    },
    {
      "cell_type": "code",
      "metadata": {
        "colab": {
          "base_uri": "https://localhost:8080/"
        },
        "id": "g4TFArldOzXb",
        "outputId": "a3b40c6c-2345-47f7-9ee7-000e2847dea1"
      },
      "source": [
        "#variance\n",
        "sum_var=0\n",
        "for e in l:\n",
        "  t=(e-mean)**2\n",
        "  sum_var=sum_var+t\n",
        "var=sum_var/(len(l)-1)\n",
        "print(\"Variance:\",var)"
      ],
      "execution_count": 40,
      "outputs": [
        {
          "output_type": "stream",
          "name": "stdout",
          "text": [
            "Variance: 6.3611111111111125\n"
          ]
        }
      ]
    },
    {
      "cell_type": "code",
      "metadata": {
        "colab": {
          "base_uri": "https://localhost:8080/"
        },
        "id": "CADZ8SSxQ_9y",
        "outputId": "935c1476-364b-4218-822a-0b7669011d8a"
      },
      "source": [
        "#std_deviation\n",
        "stddev=(var)**0.5\n",
        "print(\"Standard Deviation:\",stddev)"
      ],
      "execution_count": 42,
      "outputs": [
        {
          "output_type": "stream",
          "name": "stdout",
          "text": [
            "Standard Deviation: 2.5221243250702594\n"
          ]
        }
      ]
    },
    {
      "cell_type": "code",
      "metadata": {
        "id": "fBHN1AYQ04qj"
      },
      "source": [
        ""
      ],
      "execution_count": 41,
      "outputs": []
    }
  ]
}